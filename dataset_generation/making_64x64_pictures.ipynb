{
 "cells": [
  {
   "cell_type": "code",
   "execution_count": 3,
   "metadata": {},
   "outputs": [
    {
     "name": "stdout",
     "output_type": "stream",
     "text": [
      "172703 images found\n"
     ]
    }
   ],
   "source": [
    "import os\n",
    "from PIL import Image\n",
    "import numpy as np\n",
    "import random\n",
    "import csv\n",
    "\n",
    "path = r'C:\\\\places\\\\places_train\\\\' # modify this as needed\n",
    "\n",
    "# iterating through files\n",
    "images = []\n",
    "for root, dirs, files in os.walk(path):\n",
    "    for file in files:\n",
    "        if file.endswith('.jpg'): images.append(os.path.join(root, file))\n",
    "print(\"%d images found\" % len(images))\n",
    "\n"
   ]
  },
  {
   "cell_type": "code",
   "execution_count": 4,
   "metadata": {},
   "outputs": [
    {
     "name": "stdout",
     "output_type": "stream",
     "text": [
      "Finished.                                             172703.jpg             \n"
     ]
    }
   ],
   "source": [
    "path = r'C:\\\\places\\\\'\n",
    "original_path = 'places_train\\\\'\n",
    "cropped_path= 'places_train_cropped\\\\'\n",
    "crop_path= 'places_train_crop\\\\'\n",
    "\n",
    "np.random.seed(123)\n",
    "crop_regions = [None]*len(images)\n",
    "c = 0\n",
    "\n",
    "for file in images: # iterating through files\n",
    "    c += 1\n",
    "    good_crop = False\n",
    "    while not good_crop:\n",
    "        '''\n",
    "        x1, y1, x2, y2 = np.random.randint(0, 255), np.random.randint(0, 255), np.random.randint(0, 255), np.random.randint(0, 255)\n",
    "        good_crop = True\n",
    "        if (np.abs(x2-x1) < 64) or (np.abs(y2-y1) < 64): \n",
    "            good_crop = False\n",
    "        if (np.abs(x2-x1) > 100) or (np.abs(y2-y1) > 100):\n",
    "            good_crop = False\n",
    "        '''\n",
    "        x1, y1, x2, y2 = np.random.randint(0, 63), np.random.randint(0, 63), np.random.randint(0, 63), np.random.randint(0, 63)\n",
    "        #25 pixel -> 15% ,#14 pixel -> 5%\n",
    "        good_crop = True\n",
    "        if (np.abs(x2-x1) < 14) or (np.abs(y2-y1) < 14): \n",
    "            good_crop = False\n",
    "        if (np.abs(x2-x1) > 25) or (np.abs(y2-y1) > 25):\n",
    "            good_crop = False\n",
    "            \n",
    "    if (x1>x2): (x1, x2) = (x2, x1)\n",
    "    if (y1>y2): (y1, y2) = (y2, y1)\n",
    "    \n",
    "    im = Image.open(file)\n",
    "    # 256 -> 64\n",
    "    im = im.resize((64,64))\n",
    "    # saving resized image\n",
    "    im.save(path + original_path + os.path.basename(file))\n",
    "    \n",
    "    pixels = im.load()\n",
    "    \n",
    "    # saving cropped parts\n",
    "    im_temp=np.array(im)\n",
    "    crop=im_temp[x1:x2+1,y1:y2+1,:]\n",
    "    imc = Image.fromarray(crop)\n",
    "    imc.save(path + crop_path + os.path.basename(file))\n",
    "    \n",
    "    # cutting out part of the image\n",
    "    for i in range(x1, x2+1):\n",
    "        for j in range(y1, y2+1):\n",
    "            pixels[i,j] = (0, 0, 0) # probably should be something else\n",
    "            \n",
    "    new_filename = path + cropped_path + os.path.basename(file)\n",
    "    print(\"Processing #%d: %s             \" % (c, new_filename), end='\\r')\n",
    "    im.save(new_filename)\n",
    "    crop_regions[c-1]=([os.path.basename(new_filename), x1, y1, x2, y2])\n",
    "    \n",
    "# saving the coordinates of the cut out regions\n",
    "with open(\"out_train.csv\", \"w\", newline=\"\") as f:\n",
    "    writer = csv.writer(f)\n",
    "    writer.writerows(crop_regions)\n",
    "\n",
    "print(\"Finished.                                             \")"
   ]
  },
  {
   "cell_type": "code",
   "execution_count": 6,
   "metadata": {},
   "outputs": [],
   "source": [
    "with open(\"out_train.csv\", \"w\", newline=\"\") as f:\n",
    "    writer = csv.writer(f)\n",
    "    writer.writerows(crop_regions)\n"
   ]
  },
  {
   "cell_type": "code",
   "execution_count": 5,
   "metadata": {},
   "outputs": [
    {
     "name": "stdout",
     "output_type": "stream",
     "text": [
      "20318 images found\n"
     ]
    }
   ],
   "source": [
    "import os\n",
    "from PIL import Image\n",
    "import numpy as np\n",
    "import random\n",
    "import csv\n",
    "\n",
    "path = r'C:\\\\places\\\\places_valid\\\\' # modify this as needed\n",
    "\n",
    "# iterating through files\n",
    "images = []\n",
    "for root, dirs, files in os.walk(path):\n",
    "    for file in files:\n",
    "        if file.endswith('.jpg'): images.append(os.path.join(root, file))\n",
    "print(\"%d images found\" % len(images))\n",
    "\n"
   ]
  },
  {
   "cell_type": "code",
   "execution_count": 7,
   "metadata": {},
   "outputs": [
    {
     "name": "stdout",
     "output_type": "stream",
     "text": [
      "Finished.                                             20318.jpg             \n"
     ]
    }
   ],
   "source": [
    "path = r'C:\\\\places\\\\'\n",
    "original_path = 'places_valid\\\\'\n",
    "cropped_path= 'places_valid_cropped\\\\'\n",
    "crop_path= 'places_valid_crop\\\\'\n",
    "\n",
    "np.random.seed(123)\n",
    "crop_regions = [None]*len(images)\n",
    "c = 0\n",
    "\n",
    "for file in images: # iterating through files\n",
    "    c += 1\n",
    "    good_crop = False\n",
    "    while not good_crop:\n",
    "        '''\n",
    "        x1, y1, x2, y2 = np.random.randint(0, 255), np.random.randint(0, 255), np.random.randint(0, 255), np.random.randint(0, 255)\n",
    "        good_crop = True\n",
    "        if (np.abs(x2-x1) < 64) or (np.abs(y2-y1) < 64): \n",
    "            good_crop = False\n",
    "        if (np.abs(x2-x1) > 100) or (np.abs(y2-y1) > 100):\n",
    "            good_crop = False\n",
    "        '''\n",
    "        x1, y1, x2, y2 = np.random.randint(0, 63), np.random.randint(0, 63), np.random.randint(0, 63), np.random.randint(0, 63)\n",
    "        #25 pixel -> 15% ,#14 pixel -> 5%\n",
    "        good_crop = True\n",
    "        if (np.abs(x2-x1) < 14) or (np.abs(y2-y1) < 14): \n",
    "            good_crop = False\n",
    "        if (np.abs(x2-x1) > 25) or (np.abs(y2-y1) > 25):\n",
    "            good_crop = False\n",
    "            \n",
    "    if (x1>x2): (x1, x2) = (x2, x1)\n",
    "    if (y1>y2): (y1, y2) = (y2, y1)\n",
    "    \n",
    "    im = Image.open(file)\n",
    "    # 256 -> 64\n",
    "    im = im.resize((64,64))\n",
    "    # saving resized image\n",
    "    im.save(path + original_path + os.path.basename(file))\n",
    "    \n",
    "    pixels = im.load()\n",
    "    \n",
    "    # saving cropped parts\n",
    "    im_temp=np.array(im)\n",
    "    crop=im_temp[x1:x2+1,y1:y2+1,:]\n",
    "    imc = Image.fromarray(crop)\n",
    "    imc.save(path + crop_path + os.path.basename(file))\n",
    "    \n",
    "    # cutting out part of the image\n",
    "    for i in range(x1, x2+1):\n",
    "        for j in range(y1, y2+1):\n",
    "            pixels[i,j] = (0, 0, 0) # probably should be something else\n",
    "            \n",
    "    new_filename = path + cropped_path + os.path.basename(file)\n",
    "    print(\"Processing #%d: %s             \" % (c, new_filename), end='\\r')\n",
    "    im.save(new_filename)\n",
    "    crop_regions[c-1]=([os.path.basename(new_filename), x1, y1, x2, y2])\n",
    "    \n",
    "# saving the coordinates of the cut out regions\n",
    "with open(\"out_valid.csv\", \"w\", newline=\"\") as f:\n",
    "    writer = csv.writer(f)\n",
    "    writer.writerows(crop_regions)\n",
    "\n",
    "print(\"Finished.                                             \")"
   ]
  },
  {
   "cell_type": "code",
   "execution_count": 8,
   "metadata": {},
   "outputs": [
    {
     "name": "stdout",
     "output_type": "stream",
     "text": [
      "10159 images found\n"
     ]
    }
   ],
   "source": [
    "import os\n",
    "from PIL import Image\n",
    "import numpy as np\n",
    "import random\n",
    "import csv\n",
    "\n",
    "path = r'C:\\\\places\\\\places_test\\\\' # modify this as needed\n",
    "\n",
    "# iterating through files\n",
    "images = []\n",
    "for root, dirs, files in os.walk(path):\n",
    "    for file in files:\n",
    "        if file.endswith('.jpg'): images.append(os.path.join(root, file))\n",
    "print(\"%d images found\" % len(images))\n",
    "\n"
   ]
  },
  {
   "cell_type": "code",
   "execution_count": 9,
   "metadata": {},
   "outputs": [
    {
     "name": "stdout",
     "output_type": "stream",
     "text": [
      "Finished.                                             0159.jpg             \n"
     ]
    }
   ],
   "source": [
    "path = r'C:\\\\places\\\\'\n",
    "original_path = 'places_test\\\\'\n",
    "cropped_path= 'places_test_cropped\\\\'\n",
    "crop_path= 'places_test_crop\\\\'\n",
    "\n",
    "np.random.seed(123)\n",
    "crop_regions = [None]*len(images)\n",
    "c = 0\n",
    "\n",
    "for file in images: # iterating through files\n",
    "    c += 1\n",
    "    good_crop = False\n",
    "    while not good_crop:\n",
    "        '''\n",
    "        x1, y1, x2, y2 = np.random.randint(0, 255), np.random.randint(0, 255), np.random.randint(0, 255), np.random.randint(0, 255)\n",
    "        good_crop = True\n",
    "        if (np.abs(x2-x1) < 64) or (np.abs(y2-y1) < 64): \n",
    "            good_crop = False\n",
    "        if (np.abs(x2-x1) > 100) or (np.abs(y2-y1) > 100):\n",
    "            good_crop = False\n",
    "        '''\n",
    "        x1, y1, x2, y2 = np.random.randint(0, 63), np.random.randint(0, 63), np.random.randint(0, 63), np.random.randint(0, 63)\n",
    "        #25 pixel -> 15% ,#14 pixel -> 5%\n",
    "        good_crop = True\n",
    "        if (np.abs(x2-x1) < 14) or (np.abs(y2-y1) < 14): \n",
    "            good_crop = False\n",
    "        if (np.abs(x2-x1) > 25) or (np.abs(y2-y1) > 25):\n",
    "            good_crop = False\n",
    "            \n",
    "    if (x1>x2): (x1, x2) = (x2, x1)\n",
    "    if (y1>y2): (y1, y2) = (y2, y1)\n",
    "    \n",
    "    im = Image.open(file)\n",
    "    # 256 -> 64\n",
    "    im = im.resize((64,64))\n",
    "    # saving resized image\n",
    "    im.save(path + original_path + os.path.basename(file))\n",
    "    \n",
    "    pixels = im.load()\n",
    "    \n",
    "    # saving cropped parts\n",
    "    im_temp=np.array(im)\n",
    "    crop=im_temp[x1:x2+1,y1:y2+1,:]\n",
    "    imc = Image.fromarray(crop)\n",
    "    imc.save(path + crop_path + os.path.basename(file))\n",
    "    \n",
    "    # cutting out part of the image\n",
    "    for i in range(x1, x2+1):\n",
    "        for j in range(y1, y2+1):\n",
    "            pixels[i,j] = (0, 0, 0) # probably should be something else\n",
    "            \n",
    "    new_filename = path + cropped_path + os.path.basename(file)\n",
    "    print(\"Processing #%d: %s             \" % (c, new_filename), end='\\r')\n",
    "    im.save(new_filename)\n",
    "    crop_regions[c-1]=([os.path.basename(new_filename), x1, y1, x2, y2])\n",
    "    \n",
    "# saving the coordinates of the cut out regions\n",
    "with open(\"out_test.csv\", \"w\", newline=\"\") as f:\n",
    "    writer = csv.writer(f)\n",
    "    writer.writerows(crop_regions)\n",
    "\n",
    "print(\"Finished.                                             \")"
   ]
  },
  {
   "cell_type": "code",
   "execution_count": null,
   "metadata": {},
   "outputs": [],
   "source": []
  }
 ],
 "metadata": {
  "kernelspec": {
   "display_name": "Python 3",
   "language": "python",
   "name": "python3"
  },
  "language_info": {
   "codemirror_mode": {
    "name": "ipython",
    "version": 3
   },
   "file_extension": ".py",
   "mimetype": "text/x-python",
   "name": "python",
   "nbconvert_exporter": "python",
   "pygments_lexer": "ipython3",
   "version": "3.7.9"
  }
 },
 "nbformat": 4,
 "nbformat_minor": 4
}
