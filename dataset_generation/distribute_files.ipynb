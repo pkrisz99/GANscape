{
 "cells": [
  {
   "cell_type": "markdown",
   "metadata": {},
   "source": [
    "# File distributing utility\n",
    "\n",
    "Rename path to the root folder of the dataset. Use double backlash instead of a single one, or use a single forward slash. **The path must end with a double backslash or a single forward slash.**\n",
    "\n",
    "This script distributes the about 244k images into multiple folders (each having 10k images at most), so that the files can be uploaded to Google Colaboratory."
   ]
  },
  {
   "cell_type": "code",
   "execution_count": 17,
   "metadata": {},
   "outputs": [
    {
     "name": "stdout",
     "output_type": "stream",
     "text": [
      "10159 images found\n"
     ]
    }
   ],
   "source": [
    "import os\n",
    "\n",
    "path = r'C:\\\\places\\\\places_test_cropped\\\\' # modify this as needed\n",
    "\n",
    "# generates a list of files in the dircetory\n",
    "images = []\n",
    "for root, dirs, files in os.walk(path):\n",
    "    for file in files:\n",
    "        if file.endswith('.jpg'): images.append(os.path.join(root, file))\n",
    "print(\"%d images found\" % len(images))\n",
    "\n"
   ]
  },
  {
   "cell_type": "code",
   "execution_count": 18,
   "metadata": {},
   "outputs": [
    {
     "name": "stdout",
     "output_type": "stream",
     "text": [
      "-> 10159/10159...\n",
      "Finished.\n"
     ]
    }
   ],
   "source": [
    "if not os.path.exists(path + \"001\"):\n",
    "    os.makedirs(path + \"001\")\n",
    "\n",
    "# moving files and creating directories if needed\n",
    "c = 0\n",
    "num = 1\n",
    "for file in images:\n",
    "    c += 1\n",
    "    os.rename(file, path + \"{0:0=3d}\\\\\".format(num) + \"{0:0=7d}.jpg\".format(c))\n",
    "    if (c % 10159 == 0): \n",
    "        print(\"-> %d/%d...\" % (c, len(images)))\n",
    "        num += 1\n",
    "        if not os.path.exists(path + \"{0:0=3d}\".format(num)):\n",
    "            os.makedirs(path + \"{0:0=3d}\".format(num))\n",
    "print(\"Finished.\")"
   ]
  },
  {
   "cell_type": "code",
   "execution_count": null,
   "metadata": {},
   "outputs": [],
   "source": []
  }
 ],
 "metadata": {
  "kernelspec": {
   "display_name": "Python 3",
   "language": "python",
   "name": "python3"
  },
  "language_info": {
   "codemirror_mode": {
    "name": "ipython",
    "version": 3
   },
   "file_extension": ".py",
   "mimetype": "text/x-python",
   "name": "python",
   "nbconvert_exporter": "python",
   "pygments_lexer": "ipython3",
   "version": "3.7.9"
  }
 },
 "nbformat": 4,
 "nbformat_minor": 4
}
