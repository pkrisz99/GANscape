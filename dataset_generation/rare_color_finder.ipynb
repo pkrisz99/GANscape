{
 "cells": [
  {
   "cell_type": "markdown",
   "metadata": {},
   "source": [
    "# Rare color finder"
   ]
  },
  {
   "cell_type": "code",
   "execution_count": 2,
   "metadata": {},
   "outputs": [
    {
     "name": "stdout",
     "output_type": "stream",
     "text": [
      "244457 images found\n",
      "Done.           \n"
     ]
    }
   ],
   "source": [
    "import os\n",
    "from PIL import Image\n",
    "import numpy as np\n",
    "import random\n",
    "\n",
    "path = r'E:\\\\train\\\\' # modify this as needed\n",
    "\n",
    "images = []\n",
    "for root, dirs, files in os.walk(path):\n",
    "    for file in files:\n",
    "        if file.endswith('.jpg'): images.append(os.path.join(root, file))\n",
    "print(\"%d images found\" % len(images))\n",
    "random.shuffle(images)\n",
    "\n",
    "n = 256\n",
    "colors = [[[0 for k in range(n)] for j in range(n)] for i in range(n)]\n",
    "c = 0\n",
    "for file in images:\n",
    "    c += 1\n",
    "    im = Image.open(file)\n",
    "    pix = np.array(im)\n",
    "    pix = pix.reshape(-1, 3)\n",
    "    for i in range(len(pix)):\n",
    "        colors[pix[i][0]][pix[i][1]][pix[i][2]] += 1\n",
    "    if (c%10==0): print(\"Processing: %d\" % c, end='\\r')\n",
    "    if (c == 2000): break # can be removed \n",
    "print(\"Done.             \")"
   ]
  },
  {
   "cell_type": "code",
   "execution_count": 5,
   "metadata": {},
   "outputs": [
    {
     "name": "stdout",
     "output_type": "stream",
     "text": [
      "(0, 0, 0) -> 192674\n",
      "(0, 1, 0) -> 34448\n",
      "(1, 0, 0) -> 30060\n",
      "(1, 1, 1) -> 60456\n",
      "(2, 2, 2) -> 48298\n",
      "(3, 3, 3) -> 62883\n",
      "(4, 4, 4) -> 39062\n",
      "(5, 5, 5) -> 33312\n",
      "(6, 6, 6) -> 30006\n",
      "(10, 10, 10) -> 30586\n",
      "(228, 228, 228) -> 33178\n",
      "(229, 229, 229) -> 33918\n",
      "(232, 232, 232) -> 32889\n",
      "(233, 233, 233) -> 35602\n",
      "(247, 247, 247) -> 30063\n",
      "(250, 250, 250) -> 36755\n",
      "(251, 251, 251) -> 36911\n",
      "(252, 252, 252) -> 39752\n",
      "(253, 253, 253) -> 69279\n",
      "(254, 254, 254) -> 143124\n",
      "(254, 255, 255) -> 49389\n",
      "(255, 254, 255) -> 39189\n",
      "(255, 255, 251) -> 30447\n",
      "(255, 255, 253) -> 39361\n",
      "(255, 255, 255) -> 737643\n",
      "25\n"
     ]
    }
   ],
   "source": [
    "a = 0\n",
    "for i in range(256):\n",
    "    for j in range(256):\n",
    "        for k in range(256):\n",
    "            if (colors[i][j][k] > 30000): # printing out most frequent colors\n",
    "                print(\"(%d, %d, %d) -> %d\" % (i, j, k, colors[i][j][k]))\n",
    "                a += 1\n",
    "print(a)"
   ]
  },
  {
   "cell_type": "code",
   "execution_count": 6,
   "metadata": {},
   "outputs": [
    {
     "data": {
      "text/plain": [
       "3"
      ]
     },
     "execution_count": 6,
     "metadata": {},
     "output_type": "execute_result"
    }
   ],
   "source": [
    "colors[101][213][255]"
   ]
  },
  {
   "cell_type": "code",
   "execution_count": null,
   "metadata": {},
   "outputs": [],
   "source": []
  }
 ],
 "metadata": {
  "kernelspec": {
   "display_name": "Python 3",
   "language": "python",
   "name": "python3"
  },
  "language_info": {
   "codemirror_mode": {
    "name": "ipython",
    "version": 3
   },
   "file_extension": ".py",
   "mimetype": "text/x-python",
   "name": "python",
   "nbconvert_exporter": "python",
   "pygments_lexer": "ipython3",
   "version": "3.8.3"
  }
 },
 "nbformat": 4,
 "nbformat_minor": 4
}
