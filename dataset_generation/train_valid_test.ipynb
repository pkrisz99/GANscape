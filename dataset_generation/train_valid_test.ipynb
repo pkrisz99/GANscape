{
 "cells": [
  {
   "cell_type": "markdown",
   "metadata": {},
   "source": [
    "# Train/valid/test generator\n",
    "\n",
    "This script separates the files from a shared directory into a train, a valid and a test dataset."
   ]
  },
  {
   "cell_type": "code",
   "execution_count": null,
   "metadata": {},
   "outputs": [],
   "source": [
    "import os\n",
    "\n",
    "path = r'C:\\\\places\\\\places_train' # modify this as needed\n",
    "\n",
    "images = []\n",
    "for root, dirs, files in os.walk(path):\n",
    "    for file in files:\n",
    "        if file.endswith('.jpg'): images.append(os.path.join(root, file))\n",
    "print(\"%d images found\" % len(images))\n"
   ]
  },
  {
   "cell_type": "code",
   "execution_count": null,
   "metadata": {},
   "outputs": [],
   "source": [
    "path_train = r'C:\\\\places\\\\places_train\\\\'\n",
    "path_valid = r'C:\\\\places\\\\places_valid\\\\'\n",
    "path_test = r'C:\\\\places\\\\places_test\\\\'\n",
    "\n",
    "valid_percent = 5\n",
    "test_percent = 5\n",
    "\n",
    "c = 0\n",
    "\n",
    "tr=0\n",
    "va=0\n",
    "te=0\n",
    "\n",
    "for file in images: # iterating through files\n",
    "    c += 1\n",
    "    \n",
    "    if ( c%(100/test_percent)==0):\n",
    "        te+=1\n",
    "        os.rename(file, path_test + \"{0:0=7d}.jpg\".format(te))\n",
    "    elif ( (c+1)%(100/valid_percent)==0):\n",
    "        va+=1\n",
    "        os.rename(file, path_valid + \"{0:0=7d}.jpg\".format(va))\n",
    "    else:\n",
    "        tr+=1\n",
    "        os.rename(file, path_train + \"{0:0=7d}.jpg\".format(tr))\n",
    "        \n",
    "    if(c % 10000 == 0): print(\"-> %d/%d...\" % (c, len(images)))\n",
    "        \n",
    "print(\"Finished.\")"
   ]
  }
 ],
 "metadata": {
  "kernelspec": {
   "display_name": "Python 3",
   "language": "python",
   "name": "python3"
  },
  "language_info": {
   "codemirror_mode": {
    "name": "ipython",
    "version": 3
   },
   "file_extension": ".py",
   "mimetype": "text/x-python",
   "name": "python",
   "nbconvert_exporter": "python",
   "pygments_lexer": "ipython3",
   "version": "3.8.3"
  }
 },
 "nbformat": 4,
 "nbformat_minor": 4
}
