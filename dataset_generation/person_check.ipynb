{
 "cells": [
  {
   "cell_type": "markdown",
   "metadata": {},
   "source": [
    "# Removing images containing people\n",
    "\n",
    "This notebook distributes the images which has people in it and those which don't into to separate directories."
   ]
  },
  {
   "cell_type": "code",
   "execution_count": 1,
   "metadata": {},
   "outputs": [
    {
     "name": "stdout",
     "output_type": "stream",
     "text": [
      "244457 images found\n"
     ]
    }
   ],
   "source": [
    "import os\n",
    "\n",
    "path = r'C:\\\\places\\\\places_all\\\\' # modify this as needed\n",
    "\n",
    "images = []\n",
    "for root, dirs, files in os.walk(path):\n",
    "    for file in files:\n",
    "        if file.endswith('.jpg'): images.append(os.path.join(root, file))\n",
    "print(\"%d images found\" % len(images))\n",
    "\n",
    "if not os.path.exists(path + \"001\"):\n",
    "    os.makedirs(path + \"001\")"
   ]
  },
  {
   "cell_type": "code",
   "execution_count": 5,
   "metadata": {},
   "outputs": [
    {
     "name": "stdout",
     "output_type": "stream",
     "text": [
      "41277\n"
     ]
    }
   ],
   "source": [
    "# counting the images containing people\n",
    "my_file = open(\"removed_images.txt\",\"r\")\n",
    "pics=my_file.readlines()\n",
    "print(len(pics))"
   ]
  },
  {
   "cell_type": "code",
   "execution_count": null,
   "metadata": {
    "scrolled": true
   },
   "outputs": [],
   "source": [
    "# separating into different directories\n",
    "\n",
    "path = r'C:\\\\places\\\\'\n",
    "\n",
    "c = 0\n",
    "d = 0\n",
    "e = 0\n",
    "num = 1\n",
    "for file in images:\n",
    "    c += 1\n",
    "    if(0==float(pics[d])):\n",
    "        d+=1\n",
    "    if(c==float(pics[d])):\n",
    "        d+=1\n",
    "        os.rename(file, path + \"places_person\\\\\" + \"{0:0=7d}.jpg\".format(d))\n",
    "    else:\n",
    "        e+=1\n",
    "        os.rename(file, path + \"places_train\\\\\" + \"{0:0=7d}.jpg\".format(e))\n",
    "    \n",
    "    if (c % 10000 == 0): \n",
    "        print(\"-> %d/%d...\" % (c, len(images)))\n",
    "        #if not os.path.exists(path + \"{0:0=3d}\".format(num)):\n",
    "            #os.makedirs(path + \"{0:0=3d}\".format(num))\n",
    "print(\"Finished.\")"
   ]
  },
  {
   "cell_type": "code",
   "execution_count": null,
   "metadata": {},
   "outputs": [],
   "source": []
  }
 ],
 "metadata": {
  "kernelspec": {
   "display_name": "Python 3",
   "language": "python",
   "name": "python3"
  },
  "language_info": {
   "codemirror_mode": {
    "name": "ipython",
    "version": 3
   },
   "file_extension": ".py",
   "mimetype": "text/x-python",
   "name": "python",
   "nbconvert_exporter": "python",
   "pygments_lexer": "ipython3",
   "version": "3.8.3"
  }
 },
 "nbformat": 4,
 "nbformat_minor": 4
}
