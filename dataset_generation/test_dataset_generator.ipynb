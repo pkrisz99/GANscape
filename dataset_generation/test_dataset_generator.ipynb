{
 "cells": [
  {
   "cell_type": "markdown",
   "metadata": {},
   "source": [
    "# Test dataset generator\n",
    "This script cuts out parts of images and saves these regions for testing purposes."
   ]
  },
  {
   "cell_type": "code",
   "execution_count": 2,
   "metadata": {},
   "outputs": [
    {
     "name": "stdout",
     "output_type": "stream",
     "text": [
      "172703 images found\n"
     ]
    }
   ],
   "source": [
    "import os\n",
    "from PIL import Image\n",
    "import numpy as np\n",
    "import random\n",
    "import csv\n",
    "\n",
    "path = r'C:\\\\places\\\\places_train\\\\' # modify this as needed\n",
    "\n",
    "# iterating through files\n",
    "images = []\n",
    "for root, dirs, files in os.walk(path):\n",
    "    for file in files:\n",
    "        if file.endswith('.jpg'): images.append(os.path.join(root, file))\n",
    "print(\"%d images found\" % len(images))\n",
    "\n"
   ]
  },
  {
   "cell_type": "code",
   "execution_count": 3,
   "metadata": {},
   "outputs": [
    {
     "name": "stdout",
     "output_type": "stream",
     "text": [
      "Processing #100491: C:\\\\places\\\\places_train_cropped\\0100491.jpg             \r"
     ]
    },
    {
     "ename": "KeyboardInterrupt",
     "evalue": "",
     "output_type": "error",
     "traceback": [
      "\u001b[1;31m---------------------------------------------------------------------------\u001b[0m",
      "\u001b[1;31mKeyboardInterrupt\u001b[0m                         Traceback (most recent call last)",
      "\u001b[1;32m<ipython-input-3-b77e8e5128b5>\u001b[0m in \u001b[0;36m<module>\u001b[1;34m\u001b[0m\n\u001b[0;32m     30\u001b[0m     \u001b[1;32mif\u001b[0m \u001b[1;33m(\u001b[0m\u001b[0my1\u001b[0m\u001b[1;33m>\u001b[0m\u001b[0my2\u001b[0m\u001b[1;33m)\u001b[0m\u001b[1;33m:\u001b[0m \u001b[1;33m(\u001b[0m\u001b[0my1\u001b[0m\u001b[1;33m,\u001b[0m \u001b[0my2\u001b[0m\u001b[1;33m)\u001b[0m \u001b[1;33m=\u001b[0m \u001b[1;33m(\u001b[0m\u001b[0my2\u001b[0m\u001b[1;33m,\u001b[0m \u001b[0my1\u001b[0m\u001b[1;33m)\u001b[0m\u001b[1;33m\u001b[0m\u001b[1;33m\u001b[0m\u001b[0m\n\u001b[0;32m     31\u001b[0m \u001b[1;33m\u001b[0m\u001b[0m\n\u001b[1;32m---> 32\u001b[1;33m     \u001b[0mim\u001b[0m \u001b[1;33m=\u001b[0m \u001b[0mImage\u001b[0m\u001b[1;33m.\u001b[0m\u001b[0mopen\u001b[0m\u001b[1;33m(\u001b[0m\u001b[0mfile\u001b[0m\u001b[1;33m)\u001b[0m\u001b[1;33m\u001b[0m\u001b[1;33m\u001b[0m\u001b[0m\n\u001b[0m\u001b[0;32m     33\u001b[0m     \u001b[1;31m# 256 -> 64\u001b[0m\u001b[1;33m\u001b[0m\u001b[1;33m\u001b[0m\u001b[1;33m\u001b[0m\u001b[0m\n\u001b[0;32m     34\u001b[0m     \u001b[0mim\u001b[0m\u001b[1;33m.\u001b[0m\u001b[0mresize\u001b[0m\u001b[1;33m(\u001b[0m\u001b[1;33m(\u001b[0m\u001b[1;36m64\u001b[0m\u001b[1;33m,\u001b[0m\u001b[1;36m64\u001b[0m\u001b[1;33m)\u001b[0m\u001b[1;33m)\u001b[0m\u001b[1;33m\u001b[0m\u001b[1;33m\u001b[0m\u001b[0m\n",
      "\u001b[1;32m~\\Anaconda3\\lib\\site-packages\\PIL\\Image.py\u001b[0m in \u001b[0;36mopen\u001b[1;34m(fp, mode, formats)\u001b[0m\n\u001b[0;32m   2898\u001b[0m         \u001b[0mexclusive_fp\u001b[0m \u001b[1;33m=\u001b[0m \u001b[1;32mTrue\u001b[0m\u001b[1;33m\u001b[0m\u001b[1;33m\u001b[0m\u001b[0m\n\u001b[0;32m   2899\u001b[0m \u001b[1;33m\u001b[0m\u001b[0m\n\u001b[1;32m-> 2900\u001b[1;33m     \u001b[0mprefix\u001b[0m \u001b[1;33m=\u001b[0m \u001b[0mfp\u001b[0m\u001b[1;33m.\u001b[0m\u001b[0mread\u001b[0m\u001b[1;33m(\u001b[0m\u001b[1;36m16\u001b[0m\u001b[1;33m)\u001b[0m\u001b[1;33m\u001b[0m\u001b[1;33m\u001b[0m\u001b[0m\n\u001b[0m\u001b[0;32m   2901\u001b[0m \u001b[1;33m\u001b[0m\u001b[0m\n\u001b[0;32m   2902\u001b[0m     \u001b[0mpreinit\u001b[0m\u001b[1;33m(\u001b[0m\u001b[1;33m)\u001b[0m\u001b[1;33m\u001b[0m\u001b[1;33m\u001b[0m\u001b[0m\n",
      "\u001b[1;31mKeyboardInterrupt\u001b[0m: "
     ]
    }
   ],
   "source": [
    "path = r'C:\\\\places\\\\'\n",
    "cropped_path= 'places_train_cropped\\\\'\n",
    "crop_path= 'places_train_crop\\\\'\n",
    "\n",
    "np.random.seed(123)\n",
    "crop_regions = [None]*len(images)\n",
    "c = 0\n",
    "\n",
    "for file in images: # iterating through files\n",
    "    c += 1\n",
    "    good_crop = False\n",
    "    while not good_crop:\n",
    "        \n",
    "        x1, y1, x2, y2 = np.random.randint(0, 255), np.random.randint(0, 255), np.random.randint(0, 255), np.random.randint(0, 255)\n",
    "        good_crop = True\n",
    "        if (np.abs(x2-x1) < 64) or (np.abs(y2-y1) < 64): \n",
    "            good_crop = False\n",
    "        if (np.abs(x2-x1) > 100) or (np.abs(y2-y1) > 100):\n",
    "            good_crop = False\n",
    "        '''\n",
    "        x1, y1, x2, y2 = np.random.randint(0, 63), np.random.randint(0, 63), np.random.randint(0, 63), np.random.randint(0, 63)\n",
    "        #25 pixel -> 15% ,#14 pixel -> 5%\n",
    "        good_crop = True\n",
    "        if (np.abs(x2-x1) < 14) or (np.abs(y2-y1) < 14): \n",
    "            good_crop = False\n",
    "        if (np.abs(x2-x1) > 25) or (np.abs(y2-y1) > 25):\n",
    "            good_crop = False\n",
    "        '''\n",
    "    if (x1>x2): (x1, x2) = (x2, x1)\n",
    "    if (y1>y2): (y1, y2) = (y2, y1)\n",
    "    \n",
    "    im = Image.open(file)\n",
    "    pixels = im.load()\n",
    "    \n",
    "    # saving cropped parts\n",
    "    im_temp=np.array(im)\n",
    "    crop=im_temp[x1:x2+1,y1:y2+1,:]\n",
    "    imc = Image.fromarray(crop)\n",
    "    imc.save(path + crop_path + os.path.basename(file))\n",
    "    \n",
    "    # cutting out part of the image\n",
    "    for i in range(x1, x2+1):\n",
    "        for j in range(y1, y2+1):\n",
    "            pixels[i,j] = (0, 0, 0) # probably should be something else\n",
    "            \n",
    "    new_filename = path + cropped_path + os.path.basename(file)\n",
    "    print(\"Processing #%d: %s             \" % (c, new_filename), end='\\r')\n",
    "    im.save(new_filename)\n",
    "    crop_regions[c-1]=([os.path.basename(new_filename), x1, y1, x2, y2])\n",
    "    \n",
    "# saving the coordinates of the cut out regions\n",
    "with open(\"out_train.csv\", \"w\", newline=\"\") as f:\n",
    "    writer = csv.writer(f)\n",
    "    writer.writerows(crop_regions)\n",
    "\n",
    "print(\"Finished.                                             \")"
   ]
  },
  {
   "cell_type": "code",
   "execution_count": 19,
   "metadata": {},
   "outputs": [
    {
     "data": {
      "text/plain": [
       "[['test01_0000001.jpg', 83, 57, 123, 106],\n",
       " ['test01_0000002.jpg', 73, 32, 126, 47],\n",
       " ['test01_0000003.jpg', 39, 47, 84, 66],\n",
       " ['test01_0000004.jpg', 118, 34, 155, 94],\n",
       " ['test01_0000005.jpg', 168, 76, 225, 131],\n",
       " ['test01_0000006.jpg', 138, 22, 162, 58],\n",
       " ['test01_0000007.jpg', 103, 217, 149, 233],\n",
       " ['test01_0000008.jpg', 198, 121, 211, 140],\n",
       " ['test01_0000009.jpg', 68, 158, 129, 211],\n",
       " ['test01_0000010.jpg', 198, 88, 230, 141]]"
      ]
     },
     "execution_count": 19,
     "metadata": {},
     "output_type": "execute_result"
    }
   ],
   "source": [
    "crop_regions[0:10]"
   ]
  },
  {
   "cell_type": "code",
   "execution_count": null,
   "metadata": {},
   "outputs": [],
   "source": []
  }
 ],
 "metadata": {
  "kernelspec": {
   "display_name": "Python 3",
   "language": "python",
   "name": "python3"
  },
  "language_info": {
   "codemirror_mode": {
    "name": "ipython",
    "version": 3
   },
   "file_extension": ".py",
   "mimetype": "text/x-python",
   "name": "python",
   "nbconvert_exporter": "python",
   "pygments_lexer": "ipython3",
   "version": "3.7.9"
  }
 },
 "nbformat": 4,
 "nbformat_minor": 4
}
