{
 "cells": [
  {
   "cell_type": "code",
   "execution_count": 1,
   "metadata": {},
   "outputs": [
    {
     "name": "stdout",
     "output_type": "stream",
     "text": [
      "41277 images found\n"
     ]
    }
   ],
   "source": [
    "#this notebook is primarily to make 64x64 pictures with 20x20 - 25x25 crops and a common 28x28 crop\n",
    "#imports\n",
    "import os\n",
    "from PIL import Image\n",
    "import numpy as np\n",
    "import random\n",
    "import csv\n",
    "\n",
    "path = r'C:\\\\places\\\\places_person\\\\' # modify this as needed\n",
    "#check how many pictures we have\n",
    "\n",
    "# iterating through files\n",
    "images = []\n",
    "for root, dirs, files in os.walk(path):\n",
    "    for file in files:\n",
    "        if file.endswith('.jpg'): images.append(os.path.join(root, file))#collect the paths of the images\n",
    "print(\"%d images found\" % len(images))\n",
    "\n"
   ]
  },
  {
   "cell_type": "code",
   "execution_count": 11,
   "metadata": {},
   "outputs": [],
   "source": [
    "path = r'C:\\\\places\\\\'\n",
    "original_path = 'places_person_original\\\\'\n",
    "cropped_path= 'places_person_cropped\\\\'\n",
    "crop_path= 'places_person_crop\\\\'\n",
    "crop_regions=[]"
   ]
  },
  {
   "cell_type": "code",
   "execution_count": 262,
   "metadata": {},
   "outputs": [],
   "source": [
    "image = images[6955]"
   ]
  },
  {
   "cell_type": "code",
   "execution_count": 263,
   "metadata": {},
   "outputs": [],
   "source": [
    "im = Image.open(image)\n",
    "im = im.resize((64,64))\n",
    "im.show()"
   ]
  },
  {
   "cell_type": "code",
   "execution_count": 266,
   "metadata": {},
   "outputs": [],
   "source": [
    "x1 = 22\n",
    "x2 = 40\n",
    "y1 = 16\n",
    "y2 = 40\n",
    "\n",
    "\n",
    "im_temp=np.array(im)\n",
    "crop=im_temp[x1:x2+1,y1:y2+1,:] #cropping the part needed(28x28)\n",
    "\n",
    "im_crop = Image.fromarray(crop)\n",
    "im_crop.show()\n",
    "\n",
    "\n",
    "#imc.save(path + crop_path + os.path.basename(file))# saving"
   ]
  },
  {
   "cell_type": "code",
   "execution_count": 267,
   "metadata": {},
   "outputs": [],
   "source": [
    "cropped = im_temp\n",
    "cropped[x1:x2+1,y1:y2+1,:] = 0\n",
    "im_cropped = Image.fromarray(cropped)\n",
    "im_cropped.show()"
   ]
  },
  {
   "cell_type": "code",
   "execution_count": 268,
   "metadata": {},
   "outputs": [],
   "source": [
    "im.save(path + original_path + os.path.basename(image))\n",
    "im_crop.save(path + crop_path + os.path.basename(image))# saving\n",
    "im_cropped.save(path + cropped_path + os.path.basename(image))# saving\n",
    "\n",
    "crop_regions.append([os.path.basename(image), x1, y1, x2, y2])\n",
    "    \n"
   ]
  },
  {
   "cell_type": "code",
   "execution_count": 269,
   "metadata": {},
   "outputs": [
    {
     "name": "stdout",
     "output_type": "stream",
     "text": [
      "[['0000017.jpg', 34, 12, 48, 27], ['0000002.jpg', 18, 25, 40, 39], ['0000004.jpg', 36, 22, 64, 42], ['0000007.jpg', 36, 22, 64, 42], ['0000015.jpg', 24, 28, 48, 48], ['0000016.jpg', 30, 22, 48, 42], ['0000017.jpg', 38, 10, 52, 28], ['0000020.jpg', 38, 16, 60, 36], ['0000025.jpg', 48, 0, 64, 28], ['0000026.jpg', 36, 38, 54, 54], ['0000028.jpg', 6, 24, 28, 42], ['0000040.jpg', 40, 20, 60, 38], ['0000053.jpg', 20, 35, 44, 50], ['0000055.jpg', 20, 20, 44, 40], ['0004801.jpg', 20, 0, 44, 15], ['0004894.jpg', 20, 0, 44, 15], ['0004910.jpg', 20, 13, 44, 26], ['0004922.jpg', 24, 28, 42, 42], ['0005122.jpg', 24, 32, 44, 50], ['0005281.jpg', 34, 38, 64, 56], ['0005323.jpg', 16, 22, 36, 38], ['0005332.jpg', 26, 28, 46, 40], ['0006871.jpg', 20, 22, 38, 42], ['0006897.jpg', 24, 32, 42, 50], ['0006904.jpg', 0, 8, 18, 30], ['0006934.jpg', 26, 44, 56, 54], ['0006956.jpg', 22, 16, 40, 40]]\n"
     ]
    }
   ],
   "source": [
    "print(crop_regions)"
   ]
  },
  {
   "cell_type": "code",
   "execution_count": 270,
   "metadata": {},
   "outputs": [],
   "source": [
    "# saving the coordinates of the cut out regions\n",
    "with open(\"out_person.csv\", \"w\", newline=\"\") as f:\n",
    "    writer = csv.writer(f)\n",
    "    writer.writerows(crop_regions)"
   ]
  },
  {
   "cell_type": "code",
   "execution_count": null,
   "metadata": {},
   "outputs": [],
   "source": []
  }
 ],
 "metadata": {
  "kernelspec": {
   "display_name": "Python 3",
   "language": "python",
   "name": "python3"
  },
  "language_info": {
   "codemirror_mode": {
    "name": "ipython",
    "version": 3
   },
   "file_extension": ".py",
   "mimetype": "text/x-python",
   "name": "python",
   "nbconvert_exporter": "python",
   "pygments_lexer": "ipython3",
   "version": "3.7.9"
  }
 },
 "nbformat": 4,
 "nbformat_minor": 4
}
