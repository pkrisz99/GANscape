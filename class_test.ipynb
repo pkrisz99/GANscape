{
 "cells": [
  {
   "cell_type": "code",
   "execution_count": 1,
   "metadata": {},
   "outputs": [],
   "source": [
    "from dataread import DataRead\n",
    "#important parts\n",
    "# self.batch_num\n",
    "# self.batch_size\n",
    "# self.target_images eredeti kép\n",
    "# self.cropped_images kivágott kép\n",
    "# self.crop_images kivágott rész\n",
    "# self.result_images majd ide lehet tenni a háló kimenetelét\n",
    "# self.csv"
   ]
  },
  {
   "cell_type": "code",
   "execution_count": 2,
   "metadata": {},
   "outputs": [
    {
     "name": "stdout",
     "output_type": "stream",
     "text": [
      "172703\n",
      "172703\n",
      "172703\n"
     ]
    }
   ],
   "source": [
    "train = DataRead(r'C:\\\\places\\\\','train',25,5)#path, mode, batch size, batch num  folder_path, data_type, batch_size, batch_num)"
   ]
  },
  {
   "cell_type": "code",
   "execution_count": 3,
   "metadata": {},
   "outputs": [
    {
     "name": "stdout",
     "output_type": "stream",
     "text": [
      "(5, 25, 64, 64, 3)\n"
     ]
    }
   ],
   "source": [
    "print(train.target_images.shape)"
   ]
  },
  {
   "cell_type": "code",
   "execution_count": 4,
   "metadata": {},
   "outputs": [
    {
     "name": "stdout",
     "output_type": "stream",
     "text": [
      "(5, 25, 64, 64, 3)\n"
     ]
    }
   ],
   "source": [
    "print(train.cropped_images.shape)"
   ]
  },
  {
   "cell_type": "code",
   "execution_count": 5,
   "metadata": {},
   "outputs": [
    {
     "name": "stdout",
     "output_type": "stream",
     "text": [
      "(5, 25, 28, 28, 3)\n"
     ]
    }
   ],
   "source": [
    "print(train.crop_images.shape)\n"
   ]
  },
  {
   "cell_type": "code",
   "execution_count": 6,
   "metadata": {},
   "outputs": [
    {
     "name": "stdout",
     "output_type": "stream",
     "text": [
      "(5, 25, 64, 64, 3)\n"
     ]
    }
   ],
   "source": [
    "print(train.result_images.shape)"
   ]
  },
  {
   "cell_type": "code",
   "execution_count": 3,
   "metadata": {},
   "outputs": [
    {
     "name": "stdout",
     "output_type": "stream",
     "text": [
      "172703\n",
      "172703\n",
      "172703\n"
     ]
    }
   ],
   "source": [
    "train.reset() #újra tölti"
   ]
  },
  {
   "cell_type": "code",
   "execution_count": 7,
   "metadata": {},
   "outputs": [
    {
     "name": "stdout",
     "output_type": "stream",
     "text": [
      "63 63\n",
      "63 63\n",
      "63 63\n",
      "63 63\n",
      "63 63\n",
      "63 63\n",
      "63 63\n",
      "63 63\n",
      "63 63\n",
      "63 63\n",
      "63 63\n",
      "63 63\n",
      "63 63\n",
      "63 63\n",
      "63 63\n",
      "63 63\n",
      "63 63\n",
      "63 63\n",
      "63 63\n",
      "63 63\n",
      "63 63\n",
      "63 63\n",
      "63 63\n",
      "63 63\n",
      "63 63\n",
      "63 63\n",
      "63 63\n",
      "63 63\n",
      "63 63\n",
      "63 63\n",
      "63 63\n",
      "63 63\n",
      "63 63\n",
      "63 63\n",
      "63 63\n",
      "63 63\n",
      "63 63\n",
      "63 63\n",
      "63 63\n",
      "63 63\n",
      "63 63\n",
      "63 63\n",
      "63 63\n",
      "63 63\n",
      "63 63\n",
      "63 63\n",
      "63 63\n",
      "63 63\n",
      "63 63\n",
      "63 63\n",
      "63 63\n",
      "63 63\n",
      "63 63\n",
      "63 63\n",
      "63 63\n",
      "63 63\n",
      "63 63\n",
      "63 63\n",
      "63 63\n",
      "63 63\n",
      "63 63\n",
      "63 63\n",
      "63 63\n",
      "63 63\n",
      "63 63\n",
      "63 63\n",
      "63 63\n",
      "63 63\n",
      "63 63\n",
      "63 63\n",
      "63 63\n",
      "63 63\n",
      "63 63\n",
      "63 63\n",
      "63 63\n",
      "63 63\n",
      "63 63\n",
      "63 63\n",
      "63 63\n",
      "63 63\n",
      "63 63\n",
      "63 63\n",
      "63 63\n",
      "63 63\n",
      "63 63\n",
      "63 63\n",
      "63 63\n",
      "63 63\n",
      "63 63\n",
      "63 63\n",
      "63 63\n",
      "63 63\n",
      "63 63\n",
      "63 63\n",
      "63 63\n",
      "63 63\n",
      "63 63\n",
      "63 63\n",
      "63 63\n",
      "63 63\n",
      "63 63\n",
      "63 63\n",
      "63 63\n",
      "63 63\n",
      "63 63\n",
      "63 63\n",
      "63 63\n",
      "63 63\n",
      "63 63\n",
      "63 63\n",
      "63 63\n",
      "63 63\n",
      "63 63\n",
      "63 63\n",
      "63 63\n",
      "63 63\n",
      "63 63\n",
      "63 63\n",
      "63 63\n",
      "63 63\n",
      "63 63\n",
      "63 63\n",
      "63 63\n",
      "63 63\n",
      "63 63\n",
      "(5, 25, 64, 64, 4)\n"
     ]
    }
   ],
   "source": [
    "train.make_masks()\n",
    "print(train.cropped_images.shape)"
   ]
  },
  {
   "cell_type": "code",
   "execution_count": 6,
   "metadata": {},
   "outputs": [],
   "source": [
    "import csv"
   ]
  },
  {
   "cell_type": "code",
   "execution_count": 16,
   "metadata": {},
   "outputs": [
    {
     "name": "stdout",
     "output_type": "stream",
     "text": [
      "[106, 39, 197, 106]\n",
      "[145, 118, 233, 191]\n",
      "[146, 85, 231, 151]\n",
      "[140, 134, 207, 212]\n",
      "[53, 104, 139, 202]\n",
      "[42, 81, 129, 161]\n",
      "[101, 95, 170, 171]\n",
      "[147, 42, 234, 132]\n"
     ]
    }
   ],
   "source": [
    "\n",
    "with open(\"out_train.csv\", \"r\") as infile:\n",
    "    r = csv.reader(infile)\n",
    "    for i in range(8): # count from 0 to 7\n",
    "        row = next(r)\n",
    "        row = row[1:]\n",
    "        row = list(map(int, row))\n",
    "        print(row)\n",
    "            "
   ]
  },
  {
   "cell_type": "code",
   "execution_count": 9,
   "metadata": {},
   "outputs": [
    {
     "name": "stdout",
     "output_type": "stream",
     "text": [
      "[[1. 1. 1.]\n",
      " [1. 1. 1.]\n",
      " [1. 1. 1.]\n",
      " [1. 1. 1.]]\n",
      "[[0. 0. 0. 0. 0. 0.]\n",
      " [0. 0. 0. 0. 0. 0.]\n",
      " [0. 0. 0. 0. 0. 0.]\n",
      " [0. 0. 1. 1. 1. 0.]\n",
      " [0. 0. 1. 1. 1. 0.]\n",
      " [0. 0. 1. 1. 1. 0.]\n",
      " [0. 0. 1. 1. 1. 0.]\n",
      " [0. 0. 0. 0. 0. 0.]]\n"
     ]
    }
   ],
   "source": [
    "import numpy as np\n",
    "test = np.ones((4,3))\n",
    "print(test)\n",
    "test = np.pad(test,((3,1),(2,1)))\n",
    "print(test)"
   ]
  },
  {
   "cell_type": "code",
   "execution_count": 18,
   "metadata": {},
   "outputs": [
    {
     "name": "stdout",
     "output_type": "stream",
     "text": [
      "[[0. 0. 0. 0.]\n",
      " [0. 0. 0. 0.]\n",
      " [0. 1. 1. 0.]\n",
      " [0. 0. 0. 0.]]\n",
      "[[[1. 1. 1.]\n",
      "  [1. 1. 1.]\n",
      "  [1. 1. 1.]\n",
      "  [1. 1. 1.]]\n",
      "\n",
      " [[1. 1. 1.]\n",
      "  [1. 1. 1.]\n",
      "  [1. 1. 1.]\n",
      "  [1. 1. 1.]]\n",
      "\n",
      " [[1. 1. 1.]\n",
      "  [1. 1. 1.]\n",
      "  [1. 1. 1.]\n",
      "  [1. 1. 1.]]\n",
      "\n",
      " [[1. 1. 1.]\n",
      "  [1. 1. 1.]\n",
      "  [1. 1. 1.]\n",
      "  [1. 1. 1.]]]\n",
      "[[0. 0. 0. 0.]\n",
      " [0. 0. 0. 0.]\n",
      " [0. 1. 1. 0.]\n",
      " [0. 0. 0. 0.]]\n"
     ]
    }
   ],
   "source": [
    "test = np.ones((4,4,3))\n",
    "insert = np.ones((1,2))\n",
    "insert = np.pad(insert,((2,1),(1,1)))\n",
    "print(insert)\n",
    "print(test)\n",
    "test = np.insert(test, 3, insert, axis=2)\n",
    "#print(test.shape)\n",
    "#print(test)\n",
    "print(test[:,:,3])\n"
   ]
  },
  {
   "cell_type": "code",
   "execution_count": 22,
   "metadata": {},
   "outputs": [
    {
     "name": "stdout",
     "output_type": "stream",
     "text": [
      "(3, 4, 2, 2, 2)\n"
     ]
    }
   ],
   "source": [
    "import numpy as np\n",
    "test = np.ones((3,4,2,2,1))\n",
    "insert = np.zeros((3,4,2,2))\n",
    "\n",
    "test = np.insert(test, 1, insert, axis=4)\n",
    "print(test.shape)"
   ]
  },
  {
   "cell_type": "code",
   "execution_count": null,
   "metadata": {},
   "outputs": [],
   "source": []
  }
 ],
 "metadata": {
  "kernelspec": {
   "display_name": "Python 3",
   "language": "python",
   "name": "python3"
  },
  "language_info": {
   "codemirror_mode": {
    "name": "ipython",
    "version": 3
   },
   "file_extension": ".py",
   "mimetype": "text/x-python",
   "name": "python",
   "nbconvert_exporter": "python",
   "pygments_lexer": "ipython3",
   "version": "3.7.9"
  }
 },
 "nbformat": 4,
 "nbformat_minor": 4
}
