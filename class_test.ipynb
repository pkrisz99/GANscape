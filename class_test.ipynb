{
 "cells": [
  {
   "cell_type": "code",
   "execution_count": 1,
   "metadata": {},
   "outputs": [],
   "source": [
    "#this notebook is for trying the functions of the DataRead class\n",
    "\n",
    "from dataread import DataRead\n",
    "#important parts\n",
    "# self.batch_num\n",
    "# self.batch_size\n",
    "# self.target_images original images\n",
    "# self.cropped_images cropped images\n",
    "# self.crop_images crop images\n",
    "# self.csv"
   ]
  },
  {
   "cell_type": "code",
   "execution_count": 3,
   "metadata": {},
   "outputs": [
    {
     "name": "stdout",
     "output_type": "stream",
     "text": [
      "172703\n",
      "172703\n",
      "172703\n"
     ]
    }
   ],
   "source": [
    "#creating a object\n",
    "train = DataRead(r'C:\\\\places\\\\','train',128,100, shuffle = True, seed = True)#path, mode, batch size, batch num  folder_path, data_type, batch_size, batch_num)"
   ]
  },
  {
   "cell_type": "code",
   "execution_count": 9,
   "metadata": {},
   "outputs": [
    {
     "data": {
      "text/plain": [
       "array([18, 16, 40, 36, 15, 12, 42, 39])"
      ]
     },
     "execution_count": 9,
     "metadata": {},
     "output_type": "execute_result"
    }
   ],
   "source": [
    "#checking the csv\n",
    "train.csv[1,0]"
   ]
  },
  {
   "cell_type": "code",
   "execution_count": 4,
   "metadata": {},
   "outputs": [
    {
     "name": "stdout",
     "output_type": "stream",
     "text": [
      "(100, 128, 64, 64, 3)\n"
     ]
    }
   ],
   "source": [
    "#shapes of the saved pic arrays\n",
    "print(train.target_images.shape)\n",
    "print(train.cropped_images.shape)\n",
    "print(train.crop_images.shape)"
   ]
  },
  {
   "cell_type": "code",
   "execution_count": 12,
   "metadata": {},
   "outputs": [
    {
     "name": "stdout",
     "output_type": "stream",
     "text": [
      "(5, 1, 8)\n"
     ]
    }
   ],
   "source": [
    "#csv shape\n",
    "print(train.csv.shape)"
   ]
  },
  {
   "cell_type": "code",
   "execution_count": 13,
   "metadata": {},
   "outputs": [
    {
     "name": "stdout",
     "output_type": "stream",
     "text": [
      "172703\n",
      "172703\n",
      "172703\n"
     ]
    }
   ],
   "source": [
    "#reset funcion\n",
    "train.reset() "
   ]
  },
  {
   "cell_type": "code",
   "execution_count": null,
   "metadata": {},
   "outputs": [],
   "source": []
  }
 ],
 "metadata": {
  "kernelspec": {
   "display_name": "Python 3",
   "language": "python",
   "name": "python3"
  },
  "language_info": {
   "codemirror_mode": {
    "name": "ipython",
    "version": 3
   },
   "file_extension": ".py",
   "mimetype": "text/x-python",
   "name": "python",
   "nbconvert_exporter": "python",
   "pygments_lexer": "ipython3",
   "version": "3.7.9"
  }
 },
 "nbformat": 4,
 "nbformat_minor": 4
}
