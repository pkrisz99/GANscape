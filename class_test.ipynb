{
 "cells": [
  {
   "cell_type": "code",
   "execution_count": 5,
   "metadata": {},
   "outputs": [],
   "source": [
    "#this notebook is for trying the functions of the DataRead class\n",
    "\n",
    "from dataread import DataRead\n",
    "from PIL import Image\n",
    "#important parts\n",
    "# self.batch_num\n",
    "# self.batch_size\n",
    "# self.target_images original images\n",
    "# self.cropped_images cropped images\n",
    "# self.crop_images crop images\n",
    "# self.csv"
   ]
  },
  {
   "cell_type": "code",
   "execution_count": 39,
   "metadata": {},
   "outputs": [
    {
     "name": "stdout",
     "output_type": "stream",
     "text": [
      "20318\n",
      "20318\n",
      "20318\n"
     ]
    }
   ],
   "source": [
    "#creating a object\n",
    "train = DataRead(r'C:\\\\places\\\\','valid',128,10, shuffle = True, seed = False)#path, mode, batch size, batch num  folder_path, data_type, batch_size, batch_num)"
   ]
  },
  {
   "cell_type": "code",
   "execution_count": 45,
   "metadata": {},
   "outputs": [
    {
     "data": {
      "text/plain": [
       "3386"
      ]
     },
     "execution_count": 45,
     "metadata": {},
     "output_type": "execute_result"
    }
   ],
   "source": [
    "train.order[10]\n",
    "# ez a random sorrend, itt van benne hogy hanyadiknak kell lennie, ez jelöle "
   ]
  },
  {
   "cell_type": "code",
   "execution_count": 46,
   "metadata": {},
   "outputs": [
    {
     "data": {
      "text/plain": [
       "array([10, 10, 32, 31,  7,  7, 34, 34])"
      ]
     },
     "execution_count": 46,
     "metadata": {},
     "output_type": "execute_result"
    }
   ],
   "source": [
    "#checking the csv\n",
    "train.csv[0,10] # ez alapján lehet ellenőrizni a csv.ben, ugye egyel nagyobb szám lesz mert a csv 1-ről kezdi az indexelést"
   ]
  },
  {
   "cell_type": "code",
   "execution_count": 42,
   "metadata": {},
   "outputs": [
    {
     "name": "stdout",
     "output_type": "stream",
     "text": [
      "(64, 64, 3)\n"
     ]
    }
   ],
   "source": [
    "print(train.target_images[0,0].shape)"
   ]
  },
  {
   "cell_type": "code",
   "execution_count": 47,
   "metadata": {},
   "outputs": [],
   "source": [
    "#image = Image.fromarray(train.target_images[5,2], 'RGB')\n",
    "#image.show()\n",
    "from matplotlib import cm\n",
    "import numpy as np\n",
    "im = Image.fromarray(np.uint8(train.cropped_images[0,10]))\n",
    "im.show() # itt lehet megnézni az indexhez tartozó képet, és csekkolni h kb jü helyen vane a crop"
   ]
  },
  {
   "cell_type": "markdown",
   "metadata": {},
   "source": [
    "Egyben az egész tesztelés:"
   ]
  },
  {
   "cell_type": "code",
   "execution_count": null,
   "metadata": {},
   "outputs": [],
   "source": [
    "i = 10\n",
    "train.order[i]\n",
    "# ez a random sorrend, itt van benne hogy hanyadiknak kell lennie, ez jelöle \n",
    "#checking the csv\n",
    "train.csv[0,i] # ez alapján lehet ellenőrizni a csv.ben, ugye egyel nagyobb szám lesz mert a csv 1-ről kezdi az indexelést\n",
    "im = Image.fromarray(np.uint8(train.cropped_images[0,i]))\n",
    "im.show() # itt lehet megnézni az indexhez tartozó képet, és csekkolni h kb jü helyen vane a crop"
   ]
  },
  {
   "cell_type": "code",
   "execution_count": 24,
   "metadata": {},
   "outputs": [
    {
     "name": "stdout",
     "output_type": "stream",
     "text": [
      "(100, 128, 64, 64, 3)\n",
      "(100, 128, 64, 64, 3)\n",
      "(100, 128, 28, 28, 3)\n"
     ]
    }
   ],
   "source": [
    "#shapes of the saved pic arrays\n",
    "print(train.target_images.shape)\n",
    "print(train.cropped_images.shape)\n",
    "print(train.crop_images.shape)"
   ]
  },
  {
   "cell_type": "code",
   "execution_count": 21,
   "metadata": {},
   "outputs": [
    {
     "data": {
      "text/plain": [
       "array([23,  3, 48, 27, 22,  1, 49, 28])"
      ]
     },
     "execution_count": 21,
     "metadata": {},
     "output_type": "execute_result"
    }
   ],
   "source": [
    "train.longcsv[0]"
   ]
  },
  {
   "cell_type": "code",
   "execution_count": 12,
   "metadata": {},
   "outputs": [
    {
     "name": "stdout",
     "output_type": "stream",
     "text": [
      "(5, 1, 8)\n"
     ]
    }
   ],
   "source": [
    "#csv shape\n",
    "print(train.csv.shape)"
   ]
  },
  {
   "cell_type": "code",
   "execution_count": 13,
   "metadata": {},
   "outputs": [
    {
     "name": "stdout",
     "output_type": "stream",
     "text": [
      "172703\n",
      "172703\n",
      "172703\n"
     ]
    }
   ],
   "source": [
    "#reset funcion\n",
    "train.reset() "
   ]
  },
  {
   "cell_type": "code",
   "execution_count": null,
   "metadata": {},
   "outputs": [],
   "source": []
  }
 ],
 "metadata": {
  "kernelspec": {
   "display_name": "Python 3",
   "language": "python",
   "name": "python3"
  },
  "language_info": {
   "codemirror_mode": {
    "name": "ipython",
    "version": 3
   },
   "file_extension": ".py",
   "mimetype": "text/x-python",
   "name": "python",
   "nbconvert_exporter": "python",
   "pygments_lexer": "ipython3",
   "version": "3.7.9"
  }
 },
 "nbformat": 4,
 "nbformat_minor": 4
}
