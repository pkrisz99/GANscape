{
 "cells": [
  {
   "cell_type": "code",
   "execution_count": 1,
   "metadata": {},
   "outputs": [],
   "source": [
    "#this notebook is for trying the functions of the DataRead class\n",
    "\n",
    "from dataread import DataRead\n",
    "from PIL import Image\n",
    "#important parts\n",
    "# self.batch_num\n",
    "# self.batch_size\n",
    "# self.target_images original images\n",
    "# self.cropped_images cropped images\n",
    "# self.crop_images crop images\n",
    "# self.csv"
   ]
  },
  {
   "cell_type": "code",
   "execution_count": 2,
   "metadata": {},
   "outputs": [
    {
     "name": "stdout",
     "output_type": "stream",
     "text": [
      "172703\n",
      "C:\\\\places\\\\places_train\\0000001.jpg\n",
      "C:\\\\places\\\\places_train\\0000002.jpg\n",
      "C:\\\\places\\\\places_train\\0000003.jpg\n",
      "C:\\\\places\\\\places_train\\0000004.jpg\n",
      "C:\\\\places\\\\places_train\\0000005.jpg\n",
      "C:\\\\places\\\\places_train\\0000006.jpg\n",
      "C:\\\\places\\\\places_train\\0000007.jpg\n",
      "C:\\\\places\\\\places_train\\0000008.jpg\n",
      "C:\\\\places\\\\places_train\\0000009.jpg\n",
      "C:\\\\places\\\\places_train\\0000010.jpg\n",
      "C:\\\\places\\\\places_train\\0000011.jpg\n",
      "C:\\\\places\\\\places_train\\0000012.jpg\n",
      "C:\\\\places\\\\places_train\\0000013.jpg\n",
      "C:\\\\places\\\\places_train\\0000014.jpg\n",
      "C:\\\\places\\\\places_train\\0000015.jpg\n",
      "C:\\\\places\\\\places_train\\0000016.jpg\n",
      "C:\\\\places\\\\places_train\\0000017.jpg\n",
      "C:\\\\places\\\\places_train\\0000018.jpg\n",
      "C:\\\\places\\\\places_train\\0000019.jpg\n",
      "C:\\\\places\\\\places_train\\0000020.jpg\n",
      "C:\\\\places\\\\places_train\\0000021.jpg\n",
      "C:\\\\places\\\\places_train\\0000022.jpg\n",
      "C:\\\\places\\\\places_train\\0000023.jpg\n",
      "C:\\\\places\\\\places_train\\0000024.jpg\n",
      "C:\\\\places\\\\places_train\\0000025.jpg\n",
      "C:\\\\places\\\\places_train\\0000026.jpg\n",
      "C:\\\\places\\\\places_train\\0000027.jpg\n",
      "C:\\\\places\\\\places_train\\0000028.jpg\n",
      "C:\\\\places\\\\places_train\\0000029.jpg\n",
      "C:\\\\places\\\\places_train\\0000030.jpg\n",
      "C:\\\\places\\\\places_train\\0000031.jpg\n",
      "C:\\\\places\\\\places_train\\0000032.jpg\n",
      "C:\\\\places\\\\places_train\\0000033.jpg\n",
      "C:\\\\places\\\\places_train\\0000034.jpg\n",
      "C:\\\\places\\\\places_train\\0000035.jpg\n",
      "C:\\\\places\\\\places_train\\0000036.jpg\n",
      "C:\\\\places\\\\places_train\\0000037.jpg\n",
      "C:\\\\places\\\\places_train\\0000038.jpg\n",
      "C:\\\\places\\\\places_train\\0000039.jpg\n",
      "C:\\\\places\\\\places_train\\0000040.jpg\n",
      "C:\\\\places\\\\places_train\\0000041.jpg\n",
      "C:\\\\places\\\\places_train\\0000042.jpg\n",
      "C:\\\\places\\\\places_train\\0000043.jpg\n",
      "C:\\\\places\\\\places_train\\0000044.jpg\n",
      "C:\\\\places\\\\places_train\\0000045.jpg\n",
      "C:\\\\places\\\\places_train\\0000046.jpg\n",
      "C:\\\\places\\\\places_train\\0000047.jpg\n",
      "C:\\\\places\\\\places_train\\0000048.jpg\n",
      "C:\\\\places\\\\places_train\\0000049.jpg\n",
      "C:\\\\places\\\\places_train\\0000050.jpg\n",
      "C:\\\\places\\\\places_train\\0000051.jpg\n",
      "C:\\\\places\\\\places_train\\0000052.jpg\n",
      "C:\\\\places\\\\places_train\\0000053.jpg\n",
      "C:\\\\places\\\\places_train\\0000054.jpg\n",
      "C:\\\\places\\\\places_train\\0000055.jpg\n",
      "C:\\\\places\\\\places_train\\0000056.jpg\n",
      "C:\\\\places\\\\places_train\\0000057.jpg\n",
      "C:\\\\places\\\\places_train\\0000058.jpg\n",
      "C:\\\\places\\\\places_train\\0000059.jpg\n",
      "C:\\\\places\\\\places_train\\0000060.jpg\n",
      "C:\\\\places\\\\places_train\\0000061.jpg\n",
      "C:\\\\places\\\\places_train\\0000062.jpg\n",
      "C:\\\\places\\\\places_train\\0000063.jpg\n",
      "C:\\\\places\\\\places_train\\0000064.jpg\n",
      "C:\\\\places\\\\places_train\\0000065.jpg\n",
      "C:\\\\places\\\\places_train\\0000066.jpg\n",
      "C:\\\\places\\\\places_train\\0000067.jpg\n",
      "C:\\\\places\\\\places_train\\0000068.jpg\n",
      "C:\\\\places\\\\places_train\\0000069.jpg\n",
      "C:\\\\places\\\\places_train\\0000070.jpg\n",
      "C:\\\\places\\\\places_train\\0000071.jpg\n",
      "C:\\\\places\\\\places_train\\0000072.jpg\n",
      "C:\\\\places\\\\places_train\\0000073.jpg\n",
      "C:\\\\places\\\\places_train\\0000074.jpg\n",
      "C:\\\\places\\\\places_train\\0000075.jpg\n",
      "C:\\\\places\\\\places_train\\0000076.jpg\n",
      "C:\\\\places\\\\places_train\\0000077.jpg\n",
      "C:\\\\places\\\\places_train\\0000078.jpg\n",
      "C:\\\\places\\\\places_train\\0000079.jpg\n",
      "C:\\\\places\\\\places_train\\0000080.jpg\n",
      "C:\\\\places\\\\places_train\\0000081.jpg\n",
      "C:\\\\places\\\\places_train\\0000082.jpg\n",
      "C:\\\\places\\\\places_train\\0000083.jpg\n",
      "C:\\\\places\\\\places_train\\0000084.jpg\n",
      "C:\\\\places\\\\places_train\\0000085.jpg\n",
      "C:\\\\places\\\\places_train\\0000086.jpg\n",
      "C:\\\\places\\\\places_train\\0000087.jpg\n",
      "C:\\\\places\\\\places_train\\0000088.jpg\n",
      "C:\\\\places\\\\places_train\\0000089.jpg\n",
      "C:\\\\places\\\\places_train\\0000090.jpg\n",
      "C:\\\\places\\\\places_train\\0000091.jpg\n",
      "C:\\\\places\\\\places_train\\0000092.jpg\n",
      "C:\\\\places\\\\places_train\\0000093.jpg\n",
      "C:\\\\places\\\\places_train\\0000094.jpg\n",
      "C:\\\\places\\\\places_train\\0000095.jpg\n",
      "C:\\\\places\\\\places_train\\0000096.jpg\n",
      "C:\\\\places\\\\places_train\\0000097.jpg\n",
      "C:\\\\places\\\\places_train\\0000098.jpg\n",
      "C:\\\\places\\\\places_train\\0000099.jpg\n",
      "C:\\\\places\\\\places_train\\0000100.jpg\n",
      "172703\n",
      "172703\n"
     ]
    }
   ],
   "source": [
    "#creating a object\n",
    "train = DataRead(r'C:\\\\places\\\\','train',128,10, shuffle = False, seed = False)#path, mode, batch size, batch num  folder_path, data_type, batch_size, batch_num)"
   ]
  },
  {
   "cell_type": "code",
   "execution_count": null,
   "metadata": {},
   "outputs": [],
   "source": [
    "train.order[10]\n",
    "# ez a random sorrend, itt van benne hogy hanyadiknak kell lennie, ez jelöle "
   ]
  },
  {
   "cell_type": "code",
   "execution_count": null,
   "metadata": {},
   "outputs": [],
   "source": [
    "#checking the csv\n",
    "train.csv[0,10] # ez alapján lehet ellenőrizni a csv.ben, ugye egyel nagyobb szám lesz mert a csv 1-ről kezdi az indexelést"
   ]
  },
  {
   "cell_type": "code",
   "execution_count": null,
   "metadata": {},
   "outputs": [],
   "source": [
    "print(train.target_images[0,0].shape)"
   ]
  },
  {
   "cell_type": "code",
   "execution_count": null,
   "metadata": {},
   "outputs": [],
   "source": [
    "#image = Image.fromarray(train.target_images[5,2], 'RGB')\n",
    "#image.show()\n",
    "from matplotlib import cm\n",
    "import numpy as np\n",
    "im = Image.fromarray(np.uint8(train.cropped_images[0,10]))\n",
    "im.show() # itt lehet megnézni az indexhez tartozó képet, és csekkolni h kb jü helyen vane a crop"
   ]
  },
  {
   "cell_type": "markdown",
   "metadata": {},
   "source": [
    "Egyben az egész tesztelés:"
   ]
  },
  {
   "cell_type": "code",
   "execution_count": null,
   "metadata": {},
   "outputs": [],
   "source": [
    "i = 100\n",
    "#train.order[i]\n",
    "# ez a random sorrend, itt van benne hogy hanyadiknak kell lennie, ez jelöle \n",
    "#checking the csv\n",
    "train.csv[0,i] # ez alapján lehet ellenőrizni a csv.ben, ugye egyel nagyobb szám lesz mert a csv 1-ről kezdi az indexelést\n",
    "im = Image.fromarray(np.uint8(train.cropped_images[0,i]))\n",
    "im.show() # itt lehet megnézni az indexhez tartozó képet, és csekkolni h kb jü helyen vane a crop"
   ]
  },
  {
   "cell_type": "code",
   "execution_count": null,
   "metadata": {},
   "outputs": [],
   "source": [
    "#shapes of the saved pic arrays\n",
    "print(train.target_images.shape)\n",
    "print(train.cropped_images.shape)\n",
    "print(train.crop_images.shape)"
   ]
  },
  {
   "cell_type": "code",
   "execution_count": null,
   "metadata": {},
   "outputs": [],
   "source": [
    "train.longcsv[0]"
   ]
  },
  {
   "cell_type": "code",
   "execution_count": null,
   "metadata": {},
   "outputs": [],
   "source": [
    "#csv shape\n",
    "print(train.csv.shape)"
   ]
  },
  {
   "cell_type": "code",
   "execution_count": null,
   "metadata": {},
   "outputs": [],
   "source": [
    "#reset funcion\n",
    "train.reset() "
   ]
  },
  {
   "cell_type": "code",
   "execution_count": null,
   "metadata": {},
   "outputs": [],
   "source": []
  }
 ],
 "metadata": {
  "kernelspec": {
   "display_name": "Python 3",
   "language": "python",
   "name": "python3"
  },
  "language_info": {
   "codemirror_mode": {
    "name": "ipython",
    "version": 3
   },
   "file_extension": ".py",
   "mimetype": "text/x-python",
   "name": "python",
   "nbconvert_exporter": "python",
   "pygments_lexer": "ipython3",
   "version": "3.7.9"
  }
 },
 "nbformat": 4,
 "nbformat_minor": 4
}
