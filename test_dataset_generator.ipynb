{
 "cells": [
  {
   "cell_type": "markdown",
   "metadata": {},
   "source": [
    "# Test dataset generator\n",
    "This script cuts out parts of images and saves these regions for testing purposes."
   ]
  },
  {
   "cell_type": "code",
   "execution_count": 19,
   "metadata": {},
   "outputs": [
    {
     "name": "stdout",
     "output_type": "stream",
     "text": [
      "203180 images found\n"
     ]
    }
   ],
   "source": [
    "import os\n",
    "from PIL import Image\n",
    "import numpy as np\n",
    "import random\n",
    "import csv\n",
    "\n",
    "path = r'C:\\\\places\\\\places_train\\\\' # modify this as needed\n",
    "\n",
    "images = []\n",
    "for root, dirs, files in os.walk(path):\n",
    "    for file in files:\n",
    "        if file.endswith('.jpg'): images.append(os.path.join(root, file))\n",
    "print(\"%d images found\" % len(images))\n",
    "\n"
   ]
  },
  {
   "cell_type": "code",
   "execution_count": 29,
   "metadata": {},
   "outputs": [
    {
     "name": "stdout",
     "output_type": "stream",
     "text": [
      "Processing #203180: C:\\\\places\\\\places_train_cropped\\0203180.jpg             \r"
     ]
    },
    {
     "ename": "PermissionError",
     "evalue": "[Errno 13] Permission denied: 'out.csv'",
     "output_type": "error",
     "traceback": [
      "\u001b[1;31m---------------------------------------------------------------------------\u001b[0m",
      "\u001b[1;31mPermissionError\u001b[0m                           Traceback (most recent call last)",
      "\u001b[1;32m<ipython-input-29-1e7881d6c62e>\u001b[0m in \u001b[0;36m<module>\u001b[1;34m\u001b[0m\n\u001b[0;32m     37\u001b[0m     \u001b[0mcrop_regions\u001b[0m\u001b[1;33m[\u001b[0m\u001b[0mc\u001b[0m\u001b[1;33m-\u001b[0m\u001b[1;36m1\u001b[0m\u001b[1;33m]\u001b[0m\u001b[1;33m=\u001b[0m\u001b[1;33m(\u001b[0m\u001b[1;33m[\u001b[0m\u001b[0mos\u001b[0m\u001b[1;33m.\u001b[0m\u001b[0mpath\u001b[0m\u001b[1;33m.\u001b[0m\u001b[0mbasename\u001b[0m\u001b[1;33m(\u001b[0m\u001b[0mnew_filename\u001b[0m\u001b[1;33m)\u001b[0m\u001b[1;33m,\u001b[0m \u001b[0mx1\u001b[0m\u001b[1;33m,\u001b[0m \u001b[0my1\u001b[0m\u001b[1;33m,\u001b[0m \u001b[0mx2\u001b[0m\u001b[1;33m,\u001b[0m \u001b[0my2\u001b[0m\u001b[1;33m]\u001b[0m\u001b[1;33m)\u001b[0m\u001b[1;33m\u001b[0m\u001b[1;33m\u001b[0m\u001b[0m\n\u001b[0;32m     38\u001b[0m \u001b[1;33m\u001b[0m\u001b[0m\n\u001b[1;32m---> 39\u001b[1;33m \u001b[1;32mwith\u001b[0m \u001b[0mopen\u001b[0m\u001b[1;33m(\u001b[0m\u001b[1;34m\"out.csv\"\u001b[0m\u001b[1;33m,\u001b[0m \u001b[1;34m\"w\"\u001b[0m\u001b[1;33m,\u001b[0m \u001b[0mnewline\u001b[0m\u001b[1;33m=\u001b[0m\u001b[1;34m\"\"\u001b[0m\u001b[1;33m)\u001b[0m \u001b[1;32mas\u001b[0m \u001b[0mf\u001b[0m\u001b[1;33m:\u001b[0m\u001b[1;33m\u001b[0m\u001b[1;33m\u001b[0m\u001b[0m\n\u001b[0m\u001b[0;32m     40\u001b[0m     \u001b[0mwriter\u001b[0m \u001b[1;33m=\u001b[0m \u001b[0mcsv\u001b[0m\u001b[1;33m.\u001b[0m\u001b[0mwriter\u001b[0m\u001b[1;33m(\u001b[0m\u001b[0mf\u001b[0m\u001b[1;33m)\u001b[0m\u001b[1;33m\u001b[0m\u001b[1;33m\u001b[0m\u001b[0m\n\u001b[0;32m     41\u001b[0m     \u001b[0mwriter\u001b[0m\u001b[1;33m.\u001b[0m\u001b[0mwriterows\u001b[0m\u001b[1;33m(\u001b[0m\u001b[0mcrop_regions\u001b[0m\u001b[1;33m)\u001b[0m\u001b[1;33m\u001b[0m\u001b[1;33m\u001b[0m\u001b[0m\n",
      "\u001b[1;31mPermissionError\u001b[0m: [Errno 13] Permission denied: 'out.csv'"
     ]
    }
   ],
   "source": [
    "path = r'C:\\\\places\\\\'\n",
    "cropped_path= 'places_train_cropped\\\\'\n",
    "crop_path= 'places_train_crop\\\\'\n",
    "\n",
    "np.random.seed(123)\n",
    "crop_regions = [None]*len(images)\n",
    "c = 0\n",
    "\n",
    "for file in images:\n",
    "    c += 1\n",
    "    good_crop = False\n",
    "    while not good_crop:\n",
    "        x1, y1, x2, y2 = np.random.randint(0, 255), np.random.randint(0, 255), np.random.randint(0, 255), np.random.randint(0, 255)\n",
    "        good_crop = True\n",
    "        if (np.abs(x2-x1) < 64) or (np.abs(y2-y1) < 64): \n",
    "            good_crop = False\n",
    "        if (np.abs(x2-x1) > 100) or (np.abs(y2-y1) > 100): #(ha 64->max 6.25%)(ha 81->max 10%)(ha 100->max 15%)(ha 128->max 25%)(ha 140 --> max 30%)\n",
    "            good_crop = False\n",
    "    \n",
    "    if (x1>x2): (x1, x2) = (x2, x1)\n",
    "    if (y1>y2): (y1, y2) = (y2, y1)\n",
    "    \n",
    "    im = Image.open(file)\n",
    "    pixels = im.load()\n",
    "    \n",
    "    im_temp=np.array(im)\n",
    "    crop=im_temp[x1:x2+1,y1:y2+1,:]\n",
    "    imc = Image.fromarray(crop)\n",
    "    imc.save(path + crop_path + os.path.basename(file))\n",
    "    \n",
    "    for i in range(x1, x2+1):\n",
    "        for j in range(y1, y2+1):\n",
    "            pixels[i,j] = (0, 0, 0) # probably should be something else\n",
    "    new_filename = path + cropped_path + os.path.basename(file)\n",
    "    print(\"Processing #%d: %s             \" % (c, new_filename), end='\\r')\n",
    "    im.save(new_filename)\n",
    "    crop_regions[c-1]=([os.path.basename(new_filename), x1, y1, x2, y2])\n",
    "    \n",
    "with open(\"out.csv\", \"w\", newline=\"\") as f:\n",
    "    writer = csv.writer(f)\n",
    "    writer.writerows(crop_regions)\n",
    "\n",
    "print(\"Finished.                                             \")"
   ]
  },
  {
   "cell_type": "code",
   "execution_count": 30,
   "metadata": {},
   "outputs": [],
   "source": [
    "with open(\"out.csv\", \"w\", newline=\"\") as f:\n",
    "    writer = csv.writer(f)\n",
    "    writer.writerows(crop_regions)"
   ]
  },
  {
   "cell_type": "code",
   "execution_count": 11,
   "metadata": {},
   "outputs": [
    {
     "name": "stdout",
     "output_type": "stream",
     "text": [
      "<class 'PixelAccess'>\n"
     ]
    }
   ],
   "source": [
    "print(type(pixels))"
   ]
  },
  {
   "cell_type": "code",
   "execution_count": null,
   "metadata": {},
   "outputs": [],
   "source": [
    "from PIL import Image\n",
    "im = Image.fromarray(A)\n",
    "im.save(\"your_file.jpeg\")"
   ]
  },
  {
   "cell_type": "code",
   "execution_count": 19,
   "metadata": {},
   "outputs": [
    {
     "data": {
      "text/plain": [
       "[['test01_0000001.jpg', 83, 57, 123, 106],\n",
       " ['test01_0000002.jpg', 73, 32, 126, 47],\n",
       " ['test01_0000003.jpg', 39, 47, 84, 66],\n",
       " ['test01_0000004.jpg', 118, 34, 155, 94],\n",
       " ['test01_0000005.jpg', 168, 76, 225, 131],\n",
       " ['test01_0000006.jpg', 138, 22, 162, 58],\n",
       " ['test01_0000007.jpg', 103, 217, 149, 233],\n",
       " ['test01_0000008.jpg', 198, 121, 211, 140],\n",
       " ['test01_0000009.jpg', 68, 158, 129, 211],\n",
       " ['test01_0000010.jpg', 198, 88, 230, 141]]"
      ]
     },
     "execution_count": 19,
     "metadata": {},
     "output_type": "execute_result"
    }
   ],
   "source": [
    "crop_regions[0:10]"
   ]
  },
  {
   "cell_type": "code",
   "execution_count": null,
   "metadata": {},
   "outputs": [],
   "source": []
  }
 ],
 "metadata": {
  "kernelspec": {
   "display_name": "Python 3",
   "language": "python",
   "name": "python3"
  },
  "language_info": {
   "codemirror_mode": {
    "name": "ipython",
    "version": 3
   },
   "file_extension": ".py",
   "mimetype": "text/x-python",
   "name": "python",
   "nbconvert_exporter": "python",
   "pygments_lexer": "ipython3",
   "version": "3.7.9"
  }
 },
 "nbformat": 4,
 "nbformat_minor": 4
}
