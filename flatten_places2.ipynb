{
 "cells": [
  {
   "cell_type": "markdown",
   "metadata": {},
   "source": [
    "# File renaming utility\n",
    "This script flattens the directory structure of the Places2 database.\n",
    "\n",
    "Rename path to the root folder of the database. Use double backlash instead of a single one. **The path must end with a double backslash.**"
   ]
  },
  {
   "cell_type": "code",
   "execution_count": 34,
   "metadata": {},
   "outputs": [
    {
     "name": "stdout",
     "output_type": "stream",
     "text": [
      "65000 images found\n",
      "-> 10000/65000...\n",
      "-> 20000/65000...\n",
      "-> 30000/65000...\n",
      "-> 40000/65000...\n",
      "-> 50000/65000...\n",
      "-> 60000/65000...\n",
      "Finished.\n"
     ]
    }
   ],
   "source": [
    "import os\n",
    "\n",
    "path = r'E:\\\\data_256\\\\' # modify this as needed\n",
    "\n",
    "images = []\n",
    "for root, dirs, files in os.walk(path):\n",
    "    for file in files:\n",
    "        if file.endswith('.jpg'): images.append(os.path.join(root, file))\n",
    "print(\"%d images found\" % len(images))\n",
    "\n",
    "c = 0\n",
    "for file in images:\n",
    "    c += 1\n",
    "    os.rename(file, path + \"{0:0=7d}.jpg\".format(c))\n",
    "    if (c % 10000 == 0): print(\"-> %d/%d...\" % (c, len(images)))\n",
    "print(\"Finished.\")"
   ]
  },
  {
   "cell_type": "code",
   "execution_count": null,
   "metadata": {},
   "outputs": [],
   "source": []
  }
 ],
 "metadata": {
  "kernelspec": {
   "display_name": "Python 3",
   "language": "python",
   "name": "python3"
  },
  "language_info": {
   "codemirror_mode": {
    "name": "ipython",
    "version": 3
   },
   "file_extension": ".py",
   "mimetype": "text/x-python",
   "name": "python",
   "nbconvert_exporter": "python",
   "pygments_lexer": "ipython3",
   "version": "3.8.3"
  }
 },
 "nbformat": 4,
 "nbformat_minor": 4
}
