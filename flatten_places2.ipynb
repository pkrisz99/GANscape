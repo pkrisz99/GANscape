{
 "cells": [
  {
   "cell_type": "markdown",
   "metadata": {},
   "source": [
    "# File renaming utility\n",
    "This script flattens the directory structure of the Places2 database.\n",
    "\n",
    "Rename path to the root folder of the database. Use double backlash instead of a single one. **The path must end with a double backslash.**"
   ]
  },
  {
   "cell_type": "code",
   "execution_count": null,
   "metadata": {},
   "outputs": [],
   "source": []
  },
  {
   "cell_type": "code",
   "execution_count": 3,
   "metadata": {},
   "outputs": [
    {
     "name": "stdout",
     "output_type": "stream",
     "text": [
      "244457 images found\n"
     ]
    }
   ],
   "source": [
    "import os\n",
    "\n",
    "path = r'C:\\\\places\\\\' # modify this as needed\n",
    "\n",
    "images = []\n",
    "for root, dirs, files in os.walk(path):\n",
    "    for file in files:\n",
    "        if file.endswith('.jpg'): images.append(os.path.join(root, file))\n",
    "print(\"%d images found\" % len(images))\n"
   ]
  },
  {
   "cell_type": "code",
   "execution_count": 2,
   "metadata": {},
   "outputs": [
    {
     "name": "stdout",
     "output_type": "stream",
     "text": [
      "C:\\\\places\\\\001\\0000001.jpg\n"
     ]
    }
   ],
   "source": [
    "print(images[0])"
   ]
  },
  {
   "cell_type": "code",
   "execution_count": 4,
   "metadata": {},
   "outputs": [
    {
     "name": "stdout",
     "output_type": "stream",
     "text": [
      "-> 10000/244457...\n",
      "-> 20000/244457...\n",
      "-> 30000/244457...\n",
      "-> 40000/244457...\n",
      "-> 50000/244457...\n",
      "-> 60000/244457...\n",
      "-> 70000/244457...\n",
      "-> 80000/244457...\n",
      "-> 90000/244457...\n",
      "-> 100000/244457...\n",
      "-> 110000/244457...\n",
      "-> 120000/244457...\n",
      "-> 130000/244457...\n",
      "-> 140000/244457...\n",
      "-> 150000/244457...\n",
      "-> 160000/244457...\n",
      "-> 170000/244457...\n",
      "-> 180000/244457...\n",
      "-> 190000/244457...\n",
      "-> 200000/244457...\n",
      "-> 210000/244457...\n",
      "-> 220000/244457...\n",
      "-> 230000/244457...\n",
      "-> 240000/244457...\n",
      "Finished.\n"
     ]
    }
   ],
   "source": [
    "path = r'C:\\\\places\\\\places_all\\\\'\n",
    "c = 0\n",
    "for file in images:\n",
    "    c += 1\n",
    "    os.rename(file, path + \"{0:0=7d}.jpg\".format(c))\n",
    "    if (c % 10000 == 0): print(\"-> %d/%d...\" % (c, len(images)))\n",
    "print(\"Finished.\")"
   ]
  },
  {
   "cell_type": "code",
   "execution_count": null,
   "metadata": {},
   "outputs": [],
   "source": []
  }
 ],
 "metadata": {
  "kernelspec": {
   "display_name": "Python 3",
   "language": "python",
   "name": "python3"
  },
  "language_info": {
   "codemirror_mode": {
    "name": "ipython",
    "version": 3
   },
   "file_extension": ".py",
   "mimetype": "text/x-python",
   "name": "python",
   "nbconvert_exporter": "python",
   "pygments_lexer": "ipython3",
   "version": "3.7.9"
  }
 },
 "nbformat": 4,
 "nbformat_minor": 4
}
