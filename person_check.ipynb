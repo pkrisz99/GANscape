{
 "cells": [
  {
   "cell_type": "code",
   "execution_count": 1,
   "metadata": {},
   "outputs": [
    {
     "name": "stdout",
     "output_type": "stream",
     "text": [
      "244457 images found\n"
     ]
    }
   ],
   "source": [
    "import os\n",
    "\n",
    "path = r'C:\\\\places\\\\places_all\\\\' # modify this as needed\n",
    "\n",
    "images = []\n",
    "for root, dirs, files in os.walk(path):\n",
    "    for file in files:\n",
    "        if file.endswith('.jpg'): images.append(os.path.join(root, file))\n",
    "print(\"%d images found\" % len(images))\n",
    "\n",
    "if not os.path.exists(path + \"001\"):\n",
    "    os.makedirs(path + \"001\")"
   ]
  },
  {
   "cell_type": "code",
   "execution_count": 12,
   "metadata": {},
   "outputs": [
    {
     "name": "stdout",
     "output_type": "stream",
     "text": [
      "39955\n"
     ]
    }
   ],
   "source": [
    "my_file = open(\"cut_25_25.txt\",\"r\")\n",
    "pics=my_file.readlines()\n",
    "print(len(pics))\n"
   ]
  },
  {
   "cell_type": "code",
   "execution_count": null,
   "metadata": {},
   "outputs": [],
   "source": [
    "path = r'C:\\\\places\\\\'\n",
    "\n",
    "c = 0\n",
    "d = 0\n",
    "e = 0\n",
    "num = 1\n",
    "for file in images:\n",
    "    c += 1\n",
    "    if(c==double(pics[d])):\n",
    "        d+=1\n",
    "        os.rename(file, path + \"places_person\\\\\" + \"{0:0=7d}.jpg\".format(d))\n",
    "    else:\n",
    "        e+=1\n",
    "        os.rename(file, path + \"places_train\\\\\" + \"{0:0=7d}.jpg\".format(e))\n",
    "    \n",
    "    if (c % 10000 == 0): \n",
    "        print(\"-> %d/%d...\" % (c, len(images)))\n",
    "        #if not os.path.exists(path + \"{0:0=3d}\".format(num)):\n",
    "            #os.makedirs(path + \"{0:0=3d}\".format(num))\n",
    "print(\"Finished.\")"
   ]
  },
  {
   "cell_type": "code",
   "execution_count": 20,
   "metadata": {},
   "outputs": [
    {
     "name": "stdout",
     "output_type": "stream",
     "text": [
      "872.0\n"
     ]
    }
   ],
   "source": [
    "print(float(pics[100]))"
   ]
  },
  {
   "cell_type": "code",
   "execution_count": 21,
   "metadata": {},
   "outputs": [
    {
     "data": {
      "text/plain": [
       "'0000872 \\n'"
      ]
     },
     "execution_count": 21,
     "metadata": {},
     "output_type": "execute_result"
    }
   ],
   "source": [
    "pics[100]"
   ]
  },
  {
   "cell_type": "code",
   "execution_count": null,
   "metadata": {},
   "outputs": [],
   "source": []
  }
 ],
 "metadata": {
  "kernelspec": {
   "display_name": "Python 3",
   "language": "python",
   "name": "python3"
  },
  "language_info": {
   "codemirror_mode": {
    "name": "ipython",
    "version": 3
   },
   "file_extension": ".py",
   "mimetype": "text/x-python",
   "name": "python",
   "nbconvert_exporter": "python",
   "pygments_lexer": "ipython3",
   "version": "3.7.9"
  }
 },
 "nbformat": 4,
 "nbformat_minor": 4
}
